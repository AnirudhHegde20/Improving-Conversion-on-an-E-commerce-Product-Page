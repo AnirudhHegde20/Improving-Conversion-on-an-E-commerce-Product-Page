{
 "cells": [
  {
   "cell_type": "markdown",
   "metadata": {},
   "source": [
    "# Improving Conversion on an E-commerce Product "
   ]
  },
  {
   "cell_type": "markdown",
   "metadata": {},
   "source": [
    "## Formulate the Hypothesis"
   ]
  },
  {
   "cell_type": "code",
   "execution_count": 2,
   "metadata": {},
   "outputs": [
    {
     "name": "stdout",
     "output_type": "stream",
     "text": [
      "Null Hypothesis (H0): Conversion Rate (A) = Conversion Rate (B)\n",
      "Alternative Hypothesis (H1): Conversion Rate (B) > Conversion Rate (A)\n"
     ]
    }
   ],
   "source": [
    "# Hypothesis definition \n",
    "hypothesis_control = \"Conversion Rate (A) = Conversion Rate (B)\"\n",
    "hypothesis_treatment = \"Conversion Rate (B) > Conversion Rate (A)\"\n",
    "\n",
    "print(\"Null Hypothesis (H0):\", hypothesis_control)\n",
    "print(\"Alternative Hypothesis (H1):\", hypothesis_treatment)"
   ]
  },
  {
   "cell_type": "code",
   "execution_count": 3,
   "metadata": {},
   "outputs": [],
   "source": [
    "# Importing Necessary Libraries \n",
    "import pandas as pd"
   ]
  },
  {
   "cell_type": "code",
   "execution_count": 4,
   "metadata": {},
   "outputs": [
    {
     "data": {
      "text/html": [
       "<div>\n",
       "<style scoped>\n",
       "    .dataframe tbody tr th:only-of-type {\n",
       "        vertical-align: middle;\n",
       "    }\n",
       "\n",
       "    .dataframe tbody tr th {\n",
       "        vertical-align: top;\n",
       "    }\n",
       "\n",
       "    .dataframe thead th {\n",
       "        text-align: right;\n",
       "    }\n",
       "</style>\n",
       "<table border=\"1\" class=\"dataframe\">\n",
       "  <thead>\n",
       "    <tr style=\"text-align: right;\">\n",
       "      <th></th>\n",
       "      <th>user_id</th>\n",
       "      <th>experiment_group</th>\n",
       "      <th>region</th>\n",
       "      <th>device_type</th>\n",
       "      <th>time_spent_seconds</th>\n",
       "      <th>added_to_cart</th>\n",
       "      <th>purchase</th>\n",
       "    </tr>\n",
       "  </thead>\n",
       "  <tbody>\n",
       "    <tr>\n",
       "      <th>0</th>\n",
       "      <td>1</td>\n",
       "      <td>A</td>\n",
       "      <td>North America</td>\n",
       "      <td>Mobile</td>\n",
       "      <td>24.31</td>\n",
       "      <td>1</td>\n",
       "      <td>1</td>\n",
       "    </tr>\n",
       "    <tr>\n",
       "      <th>1</th>\n",
       "      <td>2</td>\n",
       "      <td>B</td>\n",
       "      <td>North America</td>\n",
       "      <td>Mobile</td>\n",
       "      <td>52.10</td>\n",
       "      <td>0</td>\n",
       "      <td>0</td>\n",
       "    </tr>\n",
       "    <tr>\n",
       "      <th>2</th>\n",
       "      <td>3</td>\n",
       "      <td>B</td>\n",
       "      <td>Other</td>\n",
       "      <td>Mobile</td>\n",
       "      <td>49.36</td>\n",
       "      <td>0</td>\n",
       "      <td>0</td>\n",
       "    </tr>\n",
       "    <tr>\n",
       "      <th>3</th>\n",
       "      <td>4</td>\n",
       "      <td>B</td>\n",
       "      <td>North America</td>\n",
       "      <td>Desktop</td>\n",
       "      <td>59.37</td>\n",
       "      <td>0</td>\n",
       "      <td>0</td>\n",
       "    </tr>\n",
       "    <tr>\n",
       "      <th>4</th>\n",
       "      <td>5</td>\n",
       "      <td>A</td>\n",
       "      <td>North America</td>\n",
       "      <td>Desktop</td>\n",
       "      <td>28.14</td>\n",
       "      <td>0</td>\n",
       "      <td>0</td>\n",
       "    </tr>\n",
       "  </tbody>\n",
       "</table>\n",
       "</div>"
      ],
      "text/plain": [
       "   user_id experiment_group         region device_type  time_spent_seconds  \\\n",
       "0        1                A  North America      Mobile               24.31   \n",
       "1        2                B  North America      Mobile               52.10   \n",
       "2        3                B          Other      Mobile               49.36   \n",
       "3        4                B  North America     Desktop               59.37   \n",
       "4        5                A  North America     Desktop               28.14   \n",
       "\n",
       "   added_to_cart  purchase  \n",
       "0              1         1  \n",
       "1              0         0  \n",
       "2              0         0  \n",
       "3              0         0  \n",
       "4              0         0  "
      ]
     },
     "execution_count": 4,
     "metadata": {},
     "output_type": "execute_result"
    }
   ],
   "source": [
    "# Reading the Dataset\n",
    "df = pd.read_csv('../Data/synthetic_ab_test_data.csv')\n",
    "\n",
    "# Now you can explore your DataFrame\n",
    "df.head()"
   ]
  },
  {
   "cell_type": "code",
   "execution_count": 10,
   "metadata": {},
   "outputs": [
    {
     "name": "stdout",
     "output_type": "stream",
     "text": [
      "[0       True\n",
      "1       True\n",
      "2       True\n",
      "3       True\n",
      "4       True\n",
      "        ... \n",
      "1995    True\n",
      "1996    True\n",
      "1997    True\n",
      "1998    True\n",
      "1999    True\n",
      "Name: time_spent_seconds, Length: 2000, dtype: bool]\n"
     ]
    }
   ],
   "source": [
    "print([df['time_spent_seconds'] < 3600])"
   ]
  },
  {
   "cell_type": "code",
   "execution_count": null,
   "metadata": {},
   "outputs": [],
   "source": []
  },
  {
   "cell_type": "code",
   "execution_count": null,
   "metadata": {},
   "outputs": [],
   "source": []
  }
 ],
 "metadata": {
  "kernelspec": {
   "display_name": "venv",
   "language": "python",
   "name": "python3"
  },
  "language_info": {
   "codemirror_mode": {
    "name": "ipython",
    "version": 3
   },
   "file_extension": ".py",
   "mimetype": "text/x-python",
   "name": "python",
   "nbconvert_exporter": "python",
   "pygments_lexer": "ipython3",
   "version": "3.11.5"
  }
 },
 "nbformat": 4,
 "nbformat_minor": 2
}
