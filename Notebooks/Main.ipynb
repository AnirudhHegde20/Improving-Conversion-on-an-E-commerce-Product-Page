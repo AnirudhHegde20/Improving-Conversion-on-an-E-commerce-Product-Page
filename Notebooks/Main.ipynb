{
 "cells": [
  {
   "cell_type": "markdown",
   "metadata": {},
   "source": [
    "# Improving Conversion on an E-commerce Product "
   ]
  },
  {
   "cell_type": "markdown",
   "metadata": {},
   "source": [
    "### Problem Statement\n",
    "\n",
    "The e-commerce company seeks to improve the conversion rate of its product pages, aiming to increase the percentage of users who make a purchase after visiting the page. A new page design (Treatment B) was proposed and tested against the current design (Control A) through an A/B test.\n",
    "\n",
    "##### Key Questions\n",
    "1. Does the new design (Treatment B) improve the conversion rate compared to the current design (Control A) across the entire audience?\n",
    "\n",
    "2. Are there specific segments of users where B performs better (or worse) than A?"
   ]
  },
  {
   "cell_type": "markdown",
   "metadata": {},
   "source": [
    "**Key Points**\n",
    "\n",
    "• **Business Goal**: Improve the Purchase Conversion Rate (CR).\n",
    "\n",
    "• **Proposed Solution**: Test a new design (Treatment) against the current design (Control).\n",
    "\n",
    "• **Success Criteria**: If the Treatment’s conversion rate is significantly higher, the business will adopt it site-wide."
   ]
  },
  {
   "cell_type": "markdown",
   "metadata": {},
   "source": [
    "### Data :\n",
    "• A synthetic dataset was used, simulating 2,000 users split between Group A and Group B.\n",
    "\n",
    "• Data fields included region, device_type, time_spent_seconds, and binary outcomes like added_to_cart and purchase."
   ]
  },
  {
   "cell_type": "markdown",
   "metadata": {},
   "source": [
    "## Exploratory Data Analysis"
   ]
  },
  {
   "cell_type": "code",
   "execution_count": 44,
   "metadata": {},
   "outputs": [],
   "source": [
    "# Importing Necessary Libraries \n",
    "import pandas as pd\n",
    "import numpy as np\n",
    "import matplotlib.pyplot as plt\n",
    "import seaborn as sns\n",
    "from scipy.stats import chi2_contingency, fisher_exact\n",
    "import statsmodels.api as sm\n",
    "import statsmodels.stats.api as sms\n",
    "import pymc as pm\n",
    "\n",
    "# Optional: inline plotting\n",
    "%matplotlib inline"
   ]
  },
  {
   "cell_type": "code",
   "execution_count": 45,
   "metadata": {},
   "outputs": [
    {
     "data": {
      "text/html": [
       "<div>\n",
       "<style scoped>\n",
       "    .dataframe tbody tr th:only-of-type {\n",
       "        vertical-align: middle;\n",
       "    }\n",
       "\n",
       "    .dataframe tbody tr th {\n",
       "        vertical-align: top;\n",
       "    }\n",
       "\n",
       "    .dataframe thead th {\n",
       "        text-align: right;\n",
       "    }\n",
       "</style>\n",
       "<table border=\"1\" class=\"dataframe\">\n",
       "  <thead>\n",
       "    <tr style=\"text-align: right;\">\n",
       "      <th></th>\n",
       "      <th>user_id</th>\n",
       "      <th>experiment_group</th>\n",
       "      <th>region</th>\n",
       "      <th>device_type</th>\n",
       "      <th>time_spent_seconds</th>\n",
       "      <th>added_to_cart</th>\n",
       "      <th>purchase</th>\n",
       "    </tr>\n",
       "  </thead>\n",
       "  <tbody>\n",
       "    <tr>\n",
       "      <th>0</th>\n",
       "      <td>1</td>\n",
       "      <td>A</td>\n",
       "      <td>North America</td>\n",
       "      <td>Mobile</td>\n",
       "      <td>24.31</td>\n",
       "      <td>1</td>\n",
       "      <td>1</td>\n",
       "    </tr>\n",
       "    <tr>\n",
       "      <th>1</th>\n",
       "      <td>2</td>\n",
       "      <td>B</td>\n",
       "      <td>North America</td>\n",
       "      <td>Mobile</td>\n",
       "      <td>52.10</td>\n",
       "      <td>0</td>\n",
       "      <td>0</td>\n",
       "    </tr>\n",
       "    <tr>\n",
       "      <th>2</th>\n",
       "      <td>3</td>\n",
       "      <td>B</td>\n",
       "      <td>Other</td>\n",
       "      <td>Mobile</td>\n",
       "      <td>49.36</td>\n",
       "      <td>0</td>\n",
       "      <td>0</td>\n",
       "    </tr>\n",
       "    <tr>\n",
       "      <th>3</th>\n",
       "      <td>4</td>\n",
       "      <td>B</td>\n",
       "      <td>North America</td>\n",
       "      <td>Desktop</td>\n",
       "      <td>59.37</td>\n",
       "      <td>0</td>\n",
       "      <td>0</td>\n",
       "    </tr>\n",
       "    <tr>\n",
       "      <th>4</th>\n",
       "      <td>5</td>\n",
       "      <td>A</td>\n",
       "      <td>North America</td>\n",
       "      <td>Desktop</td>\n",
       "      <td>28.14</td>\n",
       "      <td>0</td>\n",
       "      <td>0</td>\n",
       "    </tr>\n",
       "  </tbody>\n",
       "</table>\n",
       "</div>"
      ],
      "text/plain": [
       "   user_id experiment_group         region device_type  time_spent_seconds  \\\n",
       "0        1                A  North America      Mobile               24.31   \n",
       "1        2                B  North America      Mobile               52.10   \n",
       "2        3                B          Other      Mobile               49.36   \n",
       "3        4                B  North America     Desktop               59.37   \n",
       "4        5                A  North America     Desktop               28.14   \n",
       "\n",
       "   added_to_cart  purchase  \n",
       "0              1         1  \n",
       "1              0         0  \n",
       "2              0         0  \n",
       "3              0         0  \n",
       "4              0         0  "
      ]
     },
     "execution_count": 45,
     "metadata": {},
     "output_type": "execute_result"
    }
   ],
   "source": [
    "# Reading the Dataset\n",
    "df = pd.read_csv('../Data/synthetic_ab_test_data.csv')\n",
    "\n",
    "# Now you can explore your DataFrame\n",
    "df.head()"
   ]
  },
  {
   "cell_type": "code",
   "execution_count": 46,
   "metadata": {},
   "outputs": [
    {
     "name": "stdout",
     "output_type": "stream",
     "text": [
      "experiment_group\n",
      "B    1013\n",
      "A     987\n",
      "Name: count, dtype: int64\n"
     ]
    }
   ],
   "source": [
    "# Check distribution of experiment groups\n",
    "print(df['experiment_group'].value_counts())"
   ]
  },
  {
   "cell_type": "code",
   "execution_count": 47,
   "metadata": {},
   "outputs": [
    {
     "name": "stdout",
     "output_type": "stream",
     "text": [
      "experiment_group\n",
      "B    1013\n",
      "A     987\n",
      "Name: count, dtype: int64\n",
      "                  purchase      \n",
      "                      mean count\n",
      "experiment_group                \n",
      "A                 0.074975   987\n",
      "B                 0.087858  1013\n"
     ]
    }
   ],
   "source": [
    "# Group Size & Basic Stats\n",
    "\n",
    "group_counts = df['experiment_group'].value_counts()\n",
    "print(group_counts)\n",
    "print(df.groupby('experiment_group').agg({'purchase': ['mean', 'count']}))"
   ]
  },
  {
   "cell_type": "code",
   "execution_count": 48,
   "metadata": {},
   "outputs": [
    {
     "data": {
      "image/png": "[encoded data removed]",
      "text/plain": [
       "<Figure size 640x480 with 1 Axes>"
      ]
     },
     "metadata": {},
     "output_type": "display_data"
    }
   ],
   "source": [
    "# Visualize Conversion Rates\n",
    "\n",
    "conversion_rates = df.groupby('experiment_group')['purchase'].mean().reset_index()\n",
    "sns.barplot(x='experiment_group', y='purchase', data=conversion_rates)\n",
    "plt.title('Conversion Rate by Experiment Group')\n",
    "plt.ylabel('Purchase Conversion Rate')\n",
    "plt.show()"
   ]
  },
  {
   "cell_type": "code",
   "execution_count": 49,
   "metadata": {},
   "outputs": [
    {
     "name": "stdout",
     "output_type": "stream",
     "text": [
      "experiment_group         A         B\n",
      "device_type                         \n",
      "Desktop           0.509625  0.500494\n",
      "Mobile            0.393110  0.395854\n",
      "Tablet            0.097264  0.103653\n"
     ]
    }
   ],
   "source": [
    "# Check for Randomization\n",
    "\n",
    "print(pd.crosstab(df['device_type'], df['experiment_group'], normalize='columns'))"
   ]
  },
  {
   "cell_type": "markdown",
   "metadata": {},
   "source": [
    "## Formulate the Hypothesis"
   ]
  },
  {
   "cell_type": "code",
   "execution_count": 50,
   "metadata": {},
   "outputs": [
    {
     "name": "stdout",
     "output_type": "stream",
     "text": [
      "Null Hypothesis (H0): Conversion Rate (A) = Conversion Rate (B)\n",
      "Alternative Hypothesis (H1): Conversion Rate (B) != Conversion Rate (A)\n"
     ]
    }
   ],
   "source": [
    "# Hypothesis definition \n",
    "hypothesis_control = \"Conversion Rate (A) = Conversion Rate (B)\"\n",
    "hypothesis_treatment = \"Conversion Rate (B) != Conversion Rate (A)\"\n",
    "\n",
    "print(\"Null Hypothesis (H0):\", hypothesis_control)\n",
    "print(\"Alternative Hypothesis (H1):\", hypothesis_treatment)"
   ]
  },
  {
   "cell_type": "markdown",
   "metadata": {},
   "source": [
    "### Statistical Testing"
   ]
  },
  {
   "cell_type": "code",
   "execution_count": 51,
   "metadata": {},
   "outputs": [
    {
     "name": "stdout",
     "output_type": "stream",
     "text": [
      "Conversion Rate - A: 0.0750\n",
      "Conversion Rate - B: 0.0879\n"
     ]
    }
   ],
   "source": [
    "# Proportion Test Setup\n",
    "control = df[df['experiment_group'] == 'A']\n",
    "treatment = df[df['experiment_group'] == 'B']\n",
    "\n",
    "cr_A = control['purchase'].mean()\n",
    "cr_B = treatment['purchase'].mean()\n",
    "\n",
    "print(f\"Conversion Rate - A: {cr_A:.4f}\")\n",
    "print(f\"Conversion Rate - B: {cr_B:.4f}\")"
   ]
  },
  {
   "cell_type": "code",
   "execution_count": 52,
   "metadata": {},
   "outputs": [
    {
     "name": "stdout",
     "output_type": "stream",
     "text": [
      "Chi-square test results:\n",
      "Chi2 statistic: 0.9430020322645876\n",
      "p-value: 0.3315069897656575\n",
      "Degrees of freedom: 1\n",
      "Expected values: [[906.5595 930.4405]\n",
      " [ 80.4405  82.5595]]\n"
     ]
    }
   ],
   "source": [
    "# Chi-Square Test\n",
    "contingency_table = pd.crosstab(df['purchase'], df['experiment_group'])\n",
    "chi2, p_value, dof, expected = chi2_contingency(contingency_table)\n",
    "\n",
    "print(\"Chi-square test results:\")\n",
    "print(\"Chi2 statistic:\", chi2)\n",
    "print(\"p-value:\", p_value)\n",
    "print(\"Degrees of freedom:\", dof)\n",
    "print(\"Expected values:\", expected)"
   ]
  },
  {
   "cell_type": "code",
   "execution_count": 53,
   "metadata": {},
   "outputs": [
    {
     "name": "stdout",
     "output_type": "stream",
     "text": [
      "95% CI for A: (0.05854519856534837, 0.09140414287335477)\n",
      "95% CI for B: (0.07042513772127529, 0.1052905582313407)\n"
     ]
    }
   ],
   "source": [
    "# Confidence Intervals for Each Group\n",
    "success_a = control['purchase'].sum()\n",
    "n_a = len(control)\n",
    "success_b = treatment['purchase'].sum()\n",
    "n_b = len(treatment)\n",
    "\n",
    "ci_a = sms.proportion_confint(success_a, n_a, alpha=0.05, method='normal')\n",
    "ci_b = sms.proportion_confint(success_b, n_b, alpha=0.05, method='normal')\n",
    "\n",
    "print(\"95% CI for A:\", ci_a)\n",
    "print(\"95% CI for B:\", ci_b)"
   ]
  },
  {
   "cell_type": "code",
   "execution_count": 54,
   "metadata": {},
   "outputs": [
    {
     "name": "stdout",
     "output_type": "stream",
     "text": [
      "No statistically significant difference. Keep running the test or maintain control version.\n"
     ]
    }
   ],
   "source": [
    "# Decision Logic\n",
    "alpha = 0.05  # significance level\n",
    "\n",
    "if p_value < alpha:\n",
    "    print(f\"Statistically significant difference found (p={p_value:.5f})\")\n",
    "    lift = cr_B - cr_A\n",
    "    print(f\"Conversion Rate Lift: {lift:.4f} (absolute)\")\n",
    "\n",
    "    # Check if it's practically large enough\n",
    "    if lift > 0.01:\n",
    "        print(\"Business Decision: Roll out treatment (B)!\")\n",
    "    else:\n",
    "        print(\"Business Decision: The lift is small, consider further tests.\")\n",
    "else:\n",
    "    print(\"No statistically significant difference. Keep running the test or maintain control version.\")"
   ]
  },
  {
   "cell_type": "code",
   "execution_count": 55,
   "metadata": {},
   "outputs": [
    {
     "name": "stdout",
     "output_type": "stream",
     "text": [
      "Region: North America, CR_A=0.0882, CR_B=0.0862\n",
      "Region: Other, CR_A=0.0568, CR_B=0.0990\n",
      "Region: Asia, CR_A=0.0457, CR_B=0.0874\n",
      "Region: Europe, CR_A=0.0816, CR_B=0.0867\n"
     ]
    }
   ],
   "source": [
    "# Segment Analysis\n",
    "\n",
    "for region_name in df['region'].unique():\n",
    "    sub_df = df[df['region'] == region_name]\n",
    "    cr_A_reg = sub_df[sub_df['experiment_group'] == 'A']['purchase'].mean()\n",
    "    cr_B_reg = sub_df[sub_df['experiment_group'] == 'B']['purchase'].mean()\n",
    "    print(f\"Region: {region_name}, CR_A={cr_A_reg:.4f}, CR_B={cr_B_reg:.4f}\")"
   ]
  },
  {
   "cell_type": "markdown",
   "metadata": {},
   "source": [
    "### Making it more impressive "
   ]
  },
  {
   "cell_type": "markdown",
   "metadata": {},
   "source": [
    "#### Funnel Analysis"
   ]
  },
  {
   "cell_type": "code",
   "execution_count": 42,
   "metadata": {},
   "outputs": [
    {
     "name": "stdout",
     "output_type": "stream",
     "text": [
      "Funnel Counts for A: view_page        987\n",
      "added_to_cart    135\n",
      "purchase          74\n",
      "dtype: int64\n",
      "Funnel Counts for B: view_page        1013\n",
      "added_to_cart     137\n",
      "purchase           89\n",
      "dtype: int64\n",
      "Funnel Rates for A: {'Add to Cart Rate': 0.13677811550151975, 'Purchase Rate': 0.07497467071935157}\n",
      "Funnel Rates for B: {'Add to Cart Rate': 0.13524185587364265, 'Purchase Rate': 0.087857847976308}\n"
     ]
    }
   ],
   "source": [
    "df['view_page'] = 1  # Because every record is presumably a page view\n",
    "\n",
    "funnel_A = df[df['experiment_group']=='A'].agg({\n",
    "    'view_page': 'sum',\n",
    "    'added_to_cart': 'sum',\n",
    "    'purchase': 'sum'\n",
    "})\n",
    "funnel_B = df[df['experiment_group']=='B'].agg({\n",
    "    'view_page': 'sum',\n",
    "    'added_to_cart': 'sum',\n",
    "    'purchase': 'sum'\n",
    "})\n",
    "\n",
    "print(\"Funnel Counts for A:\", funnel_A)\n",
    "print(\"Funnel Counts for B:\", funnel_B)\n",
    "\n",
    "# Conversion rates at each step\n",
    "funnel_A_rates = {\n",
    "    'Add to Cart Rate': funnel_A['added_to_cart'] / funnel_A['view_page'],\n",
    "    'Purchase Rate': funnel_A['purchase'] / funnel_A['view_page']\n",
    "}\n",
    "funnel_B_rates = {\n",
    "    'Add to Cart Rate': funnel_B['added_to_cart'] / funnel_B['view_page'],\n",
    "    'Purchase Rate': funnel_B['purchase'] / funnel_B['view_page']\n",
    "}\n",
    "\n",
    "print(\"Funnel Rates for A:\", funnel_A_rates)\n",
    "print(\"Funnel Rates for B:\", funnel_B_rates)"
   ]
  },
  {
   "cell_type": "markdown",
   "metadata": {},
   "source": [
    "#### Segment Analysis by region + device_type"
   ]
  },
  {
   "cell_type": "code",
   "execution_count": 58,
   "metadata": {},
   "outputs": [
    {
     "name": "stdout",
     "output_type": "stream",
     "text": [
      "Segment: Region=North America, Device=Mobile\n",
      "  CR_A=0.0949 (count=158)\n",
      "  CR_B=0.0968 (count=155)\n",
      "--------------------------------------------------\n",
      "Segment: Region=North America, Device=Desktop\n",
      "  CR_A=0.0660 (count=212)\n",
      "  CR_B=0.0718 (count=209)\n",
      "--------------------------------------------------\n",
      "Segment: Region=North America, Device=Tablet\n",
      "  CR_A=0.1842 (count=38)\n",
      "  CR_B=0.1190 (count=42)\n",
      "--------------------------------------------------\n",
      "Segment: Region=Other, Device=Mobile\n",
      "  CR_A=0.0476 (count=42)\n",
      "  CR_B=0.1053 (count=38)\n",
      "--------------------------------------------------\n",
      "Segment: Region=Other, Device=Desktop\n",
      "  CR_A=0.0714 (count=42)\n",
      "  CR_B=0.1042 (count=48)\n",
      "--------------------------------------------------\n",
      "Segment: Region=Other, Device=Tablet\n",
      "  CR_A=0.0000 (count=4)\n",
      "  CR_B=0.0667 (count=15)\n",
      "--------------------------------------------------\n",
      "Segment: Region=Asia, Device=Mobile\n",
      "  CR_A=0.0526 (count=76)\n",
      "  CR_B=0.1011 (count=89)\n",
      "--------------------------------------------------\n",
      "Segment: Region=Asia, Device=Desktop\n",
      "  CR_A=0.0381 (count=105)\n",
      "  CR_B=0.0808 (count=99)\n",
      "--------------------------------------------------\n",
      "Segment: Region=Asia, Device=Tablet\n",
      "  CR_A=0.0625 (count=16)\n",
      "  CR_B=0.0556 (count=18)\n",
      "--------------------------------------------------\n",
      "Segment: Region=Europe, Device=Mobile\n",
      "  CR_A=0.0625 (count=112)\n",
      "  CR_B=0.0756 (count=119)\n",
      "--------------------------------------------------\n",
      "Segment: Region=Europe, Device=Desktop\n",
      "  CR_A=0.0694 (count=144)\n",
      "  CR_B=0.1126 (count=151)\n",
      "--------------------------------------------------\n",
      "Segment: Region=Europe, Device=Tablet\n",
      "  CR_A=0.1842 (count=38)\n",
      "  CR_B=0.0000 (count=30)\n",
      "--------------------------------------------------\n"
     ]
    }
   ],
   "source": [
    "# Unique combinations of region and device_type\n",
    "unique_regions = df['region'].unique()\n",
    "unique_devices = df['device_type'].unique()\n",
    "\n",
    "for region_name in unique_regions:\n",
    "    for device in unique_devices:\n",
    "        # Filter subset\n",
    "        sub_df = df[(df['region'] == region_name) & (df['device_type'] == device)]\n",
    "        \n",
    "        # Handle case if sub_df is empty (i.e., no users in that region-device combo)\n",
    "        if len(sub_df) == 0:\n",
    "            continue\n",
    "        \n",
    "        # Compute Conversion Rate for A and B within this subsegment\n",
    "        sub_df_A = sub_df[sub_df['experiment_group'] == 'A']\n",
    "        sub_df_B = sub_df[sub_df['experiment_group'] == 'B']\n",
    "        \n",
    "        cr_A = sub_df_A['purchase'].mean()  # purchase is 0/1\n",
    "        cr_B = sub_df_B['purchase'].mean()\n",
    "        \n",
    "        print(f\"Segment: Region={region_name}, Device={device}\")\n",
    "        print(f\"  CR_A={cr_A:.4f} (count={len(sub_df_A)})\")\n",
    "        print(f\"  CR_B={cr_B:.4f} (count={len(sub_df_B)})\")\n",
    "        print(\"-\" * 50)"
   ]
  },
  {
   "cell_type": "markdown",
   "metadata": {},
   "source": [
    "#### Statistical Test Per Sub-Segment"
   ]
  },
  {
   "cell_type": "code",
   "execution_count": 59,
   "metadata": {},
   "outputs": [
    {
     "name": "stdout",
     "output_type": "stream",
     "text": [
      "Region: North America, Device: Mobile\n",
      "  CR_A=0.095 (158 users)\n",
      "  CR_B=0.097 (155 users)\n",
      "  p-value=1.0000\n",
      "--------------------------------------------------\n",
      "Region: North America, Device: Desktop\n",
      "  CR_A=0.066 (212 users)\n",
      "  CR_B=0.072 (209 users)\n",
      "  p-value=0.8495\n",
      "--------------------------------------------------\n",
      "Region: North America, Device: Tablet\n",
      "  CR_A=0.184 (38 users)\n",
      "  CR_B=0.119 (42 users)\n",
      "  p-value=0.5349\n",
      "--------------------------------------------------\n",
      "Region: Other, Device: Mobile\n",
      "  CR_A=0.048 (42 users)\n",
      "  CR_B=0.105 (38 users)\n",
      "  p-value=0.4159\n",
      "--------------------------------------------------\n",
      "Region: Other, Device: Desktop\n",
      "  CR_A=0.071 (42 users)\n",
      "  CR_B=0.104 (48 users)\n",
      "  p-value=0.7190\n",
      "--------------------------------------------------\n",
      "Region: Asia, Device: Mobile\n",
      "  CR_A=0.053 (76 users)\n",
      "  CR_B=0.101 (89 users)\n",
      "  p-value=0.3855\n",
      "--------------------------------------------------\n",
      "Region: Asia, Device: Desktop\n",
      "  CR_A=0.038 (105 users)\n",
      "  CR_B=0.081 (99 users)\n",
      "  p-value=0.2411\n",
      "--------------------------------------------------\n",
      "Region: Asia, Device: Tablet\n",
      "  CR_A=0.062 (16 users)\n",
      "  CR_B=0.056 (18 users)\n",
      "  p-value=1.0000\n",
      "--------------------------------------------------\n",
      "Region: Europe, Device: Mobile\n",
      "  CR_A=0.062 (112 users)\n",
      "  CR_B=0.076 (119 users)\n",
      "  p-value=0.7980\n",
      "--------------------------------------------------\n",
      "Region: Europe, Device: Desktop\n",
      "  CR_A=0.069 (144 users)\n",
      "  CR_B=0.113 (151 users)\n",
      "  p-value=0.2291\n",
      "--------------------------------------------------\n",
      "Region: Europe, Device: Tablet\n",
      "  CR_A=0.184 (38 users)\n",
      "  CR_B=0.000 (30 users)\n",
      "  p-value=0.0151\n",
      "--------------------------------------------------\n"
     ]
    }
   ],
   "source": [
    "from scipy.stats import fisher_exact\n",
    "\n",
    "for region_name in df['region'].unique():\n",
    "    for device in df['device_type'].unique():\n",
    "        sub_df = df[(df['region'] == region_name) & (df['device_type'] == device)]\n",
    "        sub_df_A = sub_df[sub_df['experiment_group'] == 'A']\n",
    "        sub_df_B = sub_df[sub_df['experiment_group'] == 'B']\n",
    "        \n",
    "        # Skip if too few data points\n",
    "        if len(sub_df_A) < 5 or len(sub_df_B) < 5:\n",
    "            continue\n",
    "\n",
    "        # Build contingency table for purchase\n",
    "        a_conversions = sub_df_A['purchase'].sum()\n",
    "        a_non_conversions = len(sub_df_A) - a_conversions\n",
    "        b_conversions = sub_df_B['purchase'].sum()\n",
    "        b_non_conversions = len(sub_df_B) - b_conversions\n",
    "\n",
    "        table = [[a_conversions, a_non_conversions],\n",
    "                 [b_conversions, b_non_conversions]]\n",
    "        \n",
    "        # Fisher’s Exact (good for small counts)\n",
    "        oddsratio, p_val = fisher_exact(table)\n",
    "        \n",
    "        print(f\"Region: {region_name}, Device: {device}\")\n",
    "        print(f\"  CR_A={a_conversions/len(sub_df_A):.3f} ({len(sub_df_A)} users)\")\n",
    "        print(f\"  CR_B={b_conversions/len(sub_df_B):.3f} ({len(sub_df_B)} users)\")\n",
    "        print(f\"  p-value={p_val:.4f}\")\n",
    "        print(\"-\"*50)"
   ]
  },
  {
   "cell_type": "markdown",
   "metadata": {},
   "source": [
    "### Results\n",
    "\n",
    "**Overall Performance:**\n",
    "\n",
    "• Group A (Control): Conversion Rate = 7.5%\n",
    "\n",
    "• Group B (Treatment): Conversion Rate = 8.8%\n",
    "\n",
    "• Chi-Square Test p-value: 0.3316 (not statistically significant).\n",
    "\n",
    "• Conclusion: No significant difference between A and B overall.\n",
    "\n",
    "**Segment Analysis**\n",
    "\n",
    "• Most segments showed no statistically significant differences.\n",
    "\n",
    "• The exception was Europe + Tablet, where B performed worse than A:\n",
    "\n",
    "• CR_A = 18.4%, CR_B = 0.0%, p-value = 0.0151.\n",
    "\n",
    "• Other segments (e.g., Asia + Mobile, North America + Desktop) showed small differences in conversion rates, but none were statistically significant."
   ]
  },
  {
   "cell_type": "markdown",
   "metadata": {},
   "source": [
    "### Conclusion\n",
    "\n",
    "•\tThe overall test indicates no strong evidence that the new design (B) improves conversion rates over the current design (A).\n",
    "\n",
    "•\tA significant drop in conversions for Europe + Tablet suggests a localized issue with the new design that warrants further investigation.\n",
    "\n",
    "•\tResults are not conclusive, possibly due to limited sample sizes in some sub-segments."
   ]
  },
  {
   "cell_type": "markdown",
   "metadata": {},
   "source": [
    "### Business Approach\n",
    "\n",
    "1. **Targeted Rollout:**\n",
    "\n",
    "• Roll out B selectively to segments where performance is neutral or slightly better than A (e.g., North America + Mobile).\n",
    "\n",
    "• Retain A for Europe + Tablet users, where B underperforms significantly.\n",
    "\n",
    "2. **Investigate Europe + Tablet:**\n",
    "\n",
    "• Analyze design elements or bugs that could explain why B’s conversion rate is 0%.\n",
    "\n",
    "• Conduct user surveys or usability testing in this sub-segment.\n",
    "\n",
    "3. **Cost-Benefit Analysis:**\n",
    "\n",
    "• Even with small overall improvements in conversion rate (1.3% lift), estimate the ROI of implementing B site-wide.\n",
    "\n",
    "• Balance potential gains against the risks of alienating certain sub-segments."
   ]
  },
  {
   "cell_type": "markdown",
   "metadata": {},
   "source": [
    "### Future Scope \n",
    "\n",
    "1.\t**Larger Sample Sizes:**\n",
    "\n",
    "•\tExtend the test duration to gather more data, especially in under-represented segments (e.g., Europe + Tablet).\n",
    "\n",
    "2.\t**Multi-Armed Bandit Testing:**\n",
    "\n",
    "•\tUse adaptive testing frameworks to dynamically allocate more traffic to better-performing designs (instead of static A/B splits).\n",
    "\n",
    "3.\t**Personalization:**\n",
    "\n",
    "•\tDevelop segment-specific designs, focusing on regions or devices where behaviors differ significantly.\n",
    "\n",
    "4.\t**Expand Metrics:**\n",
    "\n",
    "•\tBeyond conversion rate, evaluate metrics like time spent, add-to-cart rates, and average order value (AOV) to capture broader user behavior.\n",
    "\n",
    "5.\t**Iterate the Design:**\n",
    "\n",
    "•\tBased on insights, refine the treatment design to address weaknesses (e.g., Europe + Tablet performance) and re-test."
   ]
  }
 ],
 "metadata": {
  "kernelspec": {
   "display_name": "venv",
   "language": "python",
   "name": "python3"
  },
  "language_info": {
   "codemirror_mode": {
    "name": "ipython",
    "version": 3
   },
   "file_extension": ".py",
   "mimetype": "text/x-python",
   "name": "python",
   "nbconvert_exporter": "python",
   "pygments_lexer": "ipython3",
   "version": "3.11.5"
  }
 },
 "nbformat": 4,
 "nbformat_minor": 2
}
